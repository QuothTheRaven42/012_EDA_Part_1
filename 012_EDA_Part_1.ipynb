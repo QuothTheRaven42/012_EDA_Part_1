{
 "cells": [
  {
   "cell_type": "markdown",
   "metadata": {
    "ExecuteTime": {
     "end_time": "2019-12-21T22:22:12.060297Z",
     "start_time": "2019-12-21T22:22:12.056965Z"
    }
   },
   "source": [
    "<img src='graphics/titanic.jpg'>\n",
    "\n",
    "# 012 Exploratory Data Analysis (EDA), Part 1\n",
    "\n",
    "In past sessions we have talked about initial data analyses (IDA) briefly, and we described some of the quick commands to learn more about your data. We have also talked about visualizing data with Matplotlib and Seaborn in the previous two meetings. In this notebook, we will bring all of these lessons together to talk about how to explore your data more fully in what is the first important step in data analytics and data science.\n",
    "\n",
    "# What is an EDA?\n",
    "\n",
    "The National Institute of Standards and Technology (NIST) describes an EDA as an approach/philosophy for data analysis that employs a variety of techniques to:\n",
    "1. **maximize** insight into a data set;\n",
    "1. **uncover** underlying structure;\n",
    "1. **extract** important variables;\n",
    "1. **detect** outliers and anomalies;\n",
    "1. **test** underlying assumptions;\n",
    "1. **develop** parsimonious models; and\n",
    "1. **determine** optimal factor settings.\n",
    "\n",
    "While there are multiple ways to approach and code an EDA, there is only three steps in the process.\n",
    "- Explore / Question\n",
    "- Clean / Verify\n",
    "- Document / Save\n",
    "\n",
    "As we have said many times already in our meetings, a common phrase within data analytics and data science is that 80%-90% of a data analysis' or data scientist's job is spent cleaning data (\"data munging\"). And to begin doing that, we have to know the data.\n",
    "\n",
    "___\n",
    "___\n",
    "\n",
    "# The Dataset\n",
    "\n",
    "This is our first introduction to the famous (at least within the data munging) Titanic Dataset. \n",
    "\n",
    "The sinking of the Titanic is one of the most infamous shipwrecks in history.\n",
    "\n",
    "On April 15, 1912, during her maiden voyage, the widely considered “unsinkable” RMS Titanic sank after colliding with an iceberg. Unfortunately, there weren’t enough lifeboats for everyone onboard, resulting in the death of 1502 out of 2224 passengers and crew.\n",
    "\n",
    "While there was some element of luck involved in surviving, it seems some groups of people were more likely to survive than others.\n",
    "\n",
    "This dataset consists of the manifest of the Titanic passengers on that fateful voyage. The dataset is split into two sub-sets:\n",
    "- train.csv\n",
    "- test.csv\n",
    "\n",
    "The training set is used to build your machine learning models, which we will do in later meetings. For the training set, the outcome (also known as the “ground truth”) for each passenger is provided. Our later predictive machine learning model will be based on “features” like passengers’ gender and class. \n",
    "\n",
    "The test set is used to see how well our yet to be built machine learning model performs on unseen data. For the test set, the ground truth for each passenger is not provided. In a later meeting, it will be our job to predict these outcomes. \n",
    "\n",
    "\n",
    "## Data Dictionary\n",
    "- 1survival: Survival- 0 = No, 1 = Yes\n",
    "- pclass: Ticket class- 1 = 1st, 2 = 2nd, 3 = 3rd\n",
    "- sex: Gender\t\n",
    "- Age: The ticket holder's age in years\t\n",
    "- sibsp: # of siblings / spouses aboard the Titanic with the ticket holder\t\n",
    "- parch: # of parents / children aboard the Titanic with the ticket holder\t\n",
    "- ticket: Ticket number\t\n",
    "- fare: Passenger fare\t\n",
    "- cabin: Cabin number\t\n",
    "- embarked:Port of Embarkation\tC = Cherbourg, Q = Queenstown, S = Southampton\n",
    "\n",
    "### Variable Notes\n",
    "pclass: A proxy for socio-economic status (SES)\n",
    "1st = Upper\n",
    "2nd = Middle\n",
    "3rd = Lower\n",
    "\n",
    "age: Age is fractional if less than 1. If the age is estimated, is it in the form of xx.5\n",
    "\n",
    "sibsp: The dataset defines family relations in this way...\n",
    "Sibling = brother, sister, stepbrother, stepsister\n",
    "\n",
    "Spouse = husband, wife (mistresses and fiancés were ignored)\n",
    "\n",
    "parch: The dataset defines family relations in this way...\n",
    "\n",
    "Parent = mother, father\n",
    "\n",
    "Child = daughter, son, stepdaughter, stepson\n",
    "\n",
    "Some children travelled only with a nanny, therefore parch=0 for them.\n",
    "\n",
    "___ \n",
    "\n",
    "# Step 1 - Explore and Question the Data\n",
    "\n",
    "## Step 1a - Loading the data\n",
    "\n",
    "To begin, we need to load the data into a Pandas DataFrame. In the next block,\n",
    "1. Load the Pandas Library\n",
    "1. Load the train.csv dataset\n",
    "1. Check the first five rows of the DataFrame to get our first look at the data"
   ]
  },
  {
   "cell_type": "code",
   "execution_count": 1,
   "metadata": {
    "ExecuteTime": {
     "end_time": "2019-12-22T12:59:52.872835Z",
     "start_time": "2019-12-22T12:59:52.361996Z"
    }
   },
   "outputs": [
    {
     "data": {
      "text/html": [
       "<div>\n",
       "<style scoped>\n",
       "    .dataframe tbody tr th:only-of-type {\n",
       "        vertical-align: middle;\n",
       "    }\n",
       "\n",
       "    .dataframe tbody tr th {\n",
       "        vertical-align: top;\n",
       "    }\n",
       "\n",
       "    .dataframe thead th {\n",
       "        text-align: right;\n",
       "    }\n",
       "</style>\n",
       "<table border=\"1\" class=\"dataframe\">\n",
       "  <thead>\n",
       "    <tr style=\"text-align: right;\">\n",
       "      <th></th>\n",
       "      <th>PassengerId</th>\n",
       "      <th>Survived</th>\n",
       "      <th>Pclass</th>\n",
       "      <th>Name</th>\n",
       "      <th>Sex</th>\n",
       "      <th>Age</th>\n",
       "      <th>SibSp</th>\n",
       "      <th>Parch</th>\n",
       "      <th>Ticket</th>\n",
       "      <th>Fare</th>\n",
       "      <th>Cabin</th>\n",
       "      <th>Embarked</th>\n",
       "    </tr>\n",
       "  </thead>\n",
       "  <tbody>\n",
       "    <tr>\n",
       "      <td>0</td>\n",
       "      <td>1</td>\n",
       "      <td>0</td>\n",
       "      <td>3</td>\n",
       "      <td>Braund, Mr. Owen Harris</td>\n",
       "      <td>male</td>\n",
       "      <td>22.0</td>\n",
       "      <td>1</td>\n",
       "      <td>0</td>\n",
       "      <td>A/5 21171</td>\n",
       "      <td>7.2500</td>\n",
       "      <td>NaN</td>\n",
       "      <td>S</td>\n",
       "    </tr>\n",
       "    <tr>\n",
       "      <td>1</td>\n",
       "      <td>2</td>\n",
       "      <td>1</td>\n",
       "      <td>1</td>\n",
       "      <td>Cumings, Mrs. John Bradley (Florence Briggs Th...</td>\n",
       "      <td>female</td>\n",
       "      <td>38.0</td>\n",
       "      <td>1</td>\n",
       "      <td>0</td>\n",
       "      <td>PC 17599</td>\n",
       "      <td>71.2833</td>\n",
       "      <td>C85</td>\n",
       "      <td>C</td>\n",
       "    </tr>\n",
       "    <tr>\n",
       "      <td>2</td>\n",
       "      <td>3</td>\n",
       "      <td>1</td>\n",
       "      <td>3</td>\n",
       "      <td>Heikkinen, Miss. Laina</td>\n",
       "      <td>female</td>\n",
       "      <td>26.0</td>\n",
       "      <td>0</td>\n",
       "      <td>0</td>\n",
       "      <td>STON/O2. 3101282</td>\n",
       "      <td>7.9250</td>\n",
       "      <td>NaN</td>\n",
       "      <td>S</td>\n",
       "    </tr>\n",
       "    <tr>\n",
       "      <td>3</td>\n",
       "      <td>4</td>\n",
       "      <td>1</td>\n",
       "      <td>1</td>\n",
       "      <td>Futrelle, Mrs. Jacques Heath (Lily May Peel)</td>\n",
       "      <td>female</td>\n",
       "      <td>35.0</td>\n",
       "      <td>1</td>\n",
       "      <td>0</td>\n",
       "      <td>113803</td>\n",
       "      <td>53.1000</td>\n",
       "      <td>C123</td>\n",
       "      <td>S</td>\n",
       "    </tr>\n",
       "    <tr>\n",
       "      <td>4</td>\n",
       "      <td>5</td>\n",
       "      <td>0</td>\n",
       "      <td>3</td>\n",
       "      <td>Allen, Mr. William Henry</td>\n",
       "      <td>male</td>\n",
       "      <td>35.0</td>\n",
       "      <td>0</td>\n",
       "      <td>0</td>\n",
       "      <td>373450</td>\n",
       "      <td>8.0500</td>\n",
       "      <td>NaN</td>\n",
       "      <td>S</td>\n",
       "    </tr>\n",
       "  </tbody>\n",
       "</table>\n",
       "</div>"
      ],
      "text/plain": [
       "   PassengerId  Survived  Pclass  \\\n",
       "0            1         0       3   \n",
       "1            2         1       1   \n",
       "2            3         1       3   \n",
       "3            4         1       1   \n",
       "4            5         0       3   \n",
       "\n",
       "                                                Name     Sex   Age  SibSp  \\\n",
       "0                            Braund, Mr. Owen Harris    male  22.0      1   \n",
       "1  Cumings, Mrs. John Bradley (Florence Briggs Th...  female  38.0      1   \n",
       "2                             Heikkinen, Miss. Laina  female  26.0      0   \n",
       "3       Futrelle, Mrs. Jacques Heath (Lily May Peel)  female  35.0      1   \n",
       "4                           Allen, Mr. William Henry    male  35.0      0   \n",
       "\n",
       "   Parch            Ticket     Fare Cabin Embarked  \n",
       "0      0         A/5 21171   7.2500   NaN        S  \n",
       "1      0          PC 17599  71.2833   C85        C  \n",
       "2      0  STON/O2. 3101282   7.9250   NaN        S  \n",
       "3      0            113803  53.1000  C123        S  \n",
       "4      0            373450   8.0500   NaN        S  "
      ]
     },
     "execution_count": 1,
     "metadata": {},
     "output_type": "execute_result"
    }
   ],
   "source": [
    "# Write your code here. \n",
    "\n"
   ]
  },
  {
   "cell_type": "markdown",
   "metadata": {},
   "source": [
    "## Step 1b - Questioning the Data\n",
    "\n",
    "Next, with the raw data, we begin to question the data. \n",
    "\n",
    "### Question 1: How large is the dataset?\n",
    "\n",
    "Using what you have learned, write the code to find out how large is the dataset."
   ]
  },
  {
   "cell_type": "code",
   "execution_count": 2,
   "metadata": {
    "ExecuteTime": {
     "end_time": "2019-12-22T12:59:52.877856Z",
     "start_time": "2019-12-22T12:59:52.874338Z"
    }
   },
   "outputs": [
    {
     "data": {
      "text/plain": [
       "(891, 12)"
      ]
     },
     "execution_count": 2,
     "metadata": {},
     "output_type": "execute_result"
    }
   ],
   "source": [
    "# Write your code here. \n",
    "\n"
   ]
  },
  {
   "cell_type": "markdown",
   "metadata": {},
   "source": [
    "### Question 2: What types of variables are in the dataset?\n",
    "\n",
    "Using what you have learned, write the code to find out what types of variables are in the dataset. "
   ]
  },
  {
   "cell_type": "code",
   "execution_count": 3,
   "metadata": {
    "ExecuteTime": {
     "end_time": "2019-12-22T12:59:52.885719Z",
     "start_time": "2019-12-22T12:59:52.879569Z"
    }
   },
   "outputs": [
    {
     "data": {
      "text/plain": [
       "PassengerId      int64\n",
       "Survived         int64\n",
       "Pclass           int64\n",
       "Name            object\n",
       "Sex             object\n",
       "Age            float64\n",
       "SibSp            int64\n",
       "Parch            int64\n",
       "Ticket          object\n",
       "Fare           float64\n",
       "Cabin           object\n",
       "Embarked        object\n",
       "dtype: object"
      ]
     },
     "execution_count": 3,
     "metadata": {},
     "output_type": "execute_result"
    }
   ],
   "source": [
    "# Write your code here. \n",
    "\n"
   ]
  },
  {
   "cell_type": "markdown",
   "metadata": {},
   "source": [
    "#### Examination Notes\n",
    "As we look at the types of variables, is there anything that stands out which we may want to take note of and address later in our cleaning?\n",
    "\n",
    "___\n",
    "\n",
    "### Question 3: Are there any missing values in the dataset?\n",
    "\n",
    "Missing values are important to know as it will affect our later analyses. There are a number of ways to address missing values when we later build our predictive machine learning model, but for now - as this is an *EXPLORATORY* data analysis - we are focused only on exploring the data. We will clean it in the next step.\n",
    "\n",
    "#### Method 1: `.info( )`\n",
    "\n",
    "The first method, which we have already covered, is the `.info( )` method. Since you already know this method, go ahead and code this method. Using what you have learned, go ahead and code the next line yourself, then run it. \n"
   ]
  },
  {
   "cell_type": "code",
   "execution_count": 4,
   "metadata": {
    "ExecuteTime": {
     "end_time": "2019-12-22T12:59:52.893838Z",
     "start_time": "2019-12-22T12:59:52.887591Z"
    },
    "scrolled": false
   },
   "outputs": [
    {
     "name": "stdout",
     "output_type": "stream",
     "text": [
      "<class 'pandas.core.frame.DataFrame'>\n",
      "RangeIndex: 891 entries, 0 to 890\n",
      "Data columns (total 12 columns):\n",
      "PassengerId    891 non-null int64\n",
      "Survived       891 non-null int64\n",
      "Pclass         891 non-null int64\n",
      "Name           891 non-null object\n",
      "Sex            891 non-null object\n",
      "Age            714 non-null float64\n",
      "SibSp          891 non-null int64\n",
      "Parch          891 non-null int64\n",
      "Ticket         891 non-null object\n",
      "Fare           891 non-null float64\n",
      "Cabin          204 non-null object\n",
      "Embarked       889 non-null object\n",
      "dtypes: float64(2), int64(5), object(5)\n",
      "memory usage: 83.7+ KB\n"
     ]
    }
   ],
   "source": [
    "# Write your code here. \n",
    "\n"
   ]
  },
  {
   "cell_type": "markdown",
   "metadata": {},
   "source": [
    "#### Method 2: `isnull( ).sum( )`\n",
    "\n",
    "To find missing values in a dataset, we use the `.isnull()` command, and since we will want the total of any missing values by column, we will want to add `.sum()` on to that command.\n",
    "\n",
    "Because we did not cover this command before, I took the liberty of coding it for you. Run the next line of code."
   ]
  },
  {
   "cell_type": "code",
   "execution_count": 5,
   "metadata": {
    "ExecuteTime": {
     "end_time": "2019-12-22T12:59:52.900674Z",
     "start_time": "2019-12-22T12:59:52.895361Z"
    },
    "scrolled": true
   },
   "outputs": [
    {
     "data": {
      "text/plain": [
       "PassengerId      0\n",
       "Survived         0\n",
       "Pclass           0\n",
       "Name             0\n",
       "Sex              0\n",
       "Age            177\n",
       "SibSp            0\n",
       "Parch            0\n",
       "Ticket           0\n",
       "Fare             0\n",
       "Cabin          687\n",
       "Embarked         2\n",
       "dtype: int64"
      ]
     },
     "execution_count": 5,
     "metadata": {},
     "output_type": "execute_result"
    }
   ],
   "source": [
    "df.isnull().sum()"
   ]
  },
  {
   "cell_type": "markdown",
   "metadata": {},
   "source": [
    "#### Bonus Challenge\n",
    "\n",
    "Reaching back to our discussions on graphing, write the code to graph the sum of nulls in Matplotlib."
   ]
  },
  {
   "cell_type": "code",
   "execution_count": 6,
   "metadata": {
    "ExecuteTime": {
     "end_time": "2019-12-22T12:59:53.171419Z",
     "start_time": "2019-12-22T12:59:52.902734Z"
    }
   },
   "outputs": [
    {
     "data": {
      "image/png": "[encoded data removed]",
      "text/plain": [
       "<Figure size 1080x360 with 1 Axes>"
      ]
     },
     "metadata": {
      "needs_background": "light"
     },
     "output_type": "display_data"
    }
   ],
   "source": [
    "# Write your code here. \n",
    "\n"
   ]
  },
  {
   "cell_type": "markdown",
   "metadata": {},
   "source": [
    "#### Examination Notes \n",
    "Do we see anything that we will want to note about missing values as we get to the next or subsequent phases?\n",
    "\n",
    "___\n",
    "\n",
    "\n",
    "### Question 4: Are there any duplicated rows in the dataset?\n",
    "\n",
    "As we might suspect, duplicated observations/rows will throw our later anlaysis off. In order to find the count of duplicated values, we want to use the `.duplicated()` command. And again, since we want to look at a count of the number of duplications within the dataset we will want to add the `.sum()` command to our code. \n"
   ]
  },
  {
   "cell_type": "code",
   "execution_count": 7,
   "metadata": {
    "ExecuteTime": {
     "end_time": "2019-12-22T12:59:53.179428Z",
     "start_time": "2019-12-22T12:59:53.172553Z"
    }
   },
   "outputs": [
    {
     "data": {
      "text/plain": [
       "0"
      ]
     },
     "execution_count": 7,
     "metadata": {},
     "output_type": "execute_result"
    }
   ],
   "source": [
    "# Write your code here. \n",
    "\n"
   ]
  },
  {
   "cell_type": "markdown",
   "metadata": {},
   "source": [
    "### Question 5: What is the statistical description say about the dataset?\n",
    "\n",
    "Given our past discussions, use the appropriate command to show the statistical description of the dataset."
   ]
  },
  {
   "cell_type": "code",
   "execution_count": 8,
   "metadata": {
    "ExecuteTime": {
     "end_time": "2019-12-22T12:59:53.209362Z",
     "start_time": "2019-12-22T12:59:53.181600Z"
    }
   },
   "outputs": [
    {
     "data": {
      "text/html": [
       "<div>\n",
       "<style scoped>\n",
       "    .dataframe tbody tr th:only-of-type {\n",
       "        vertical-align: middle;\n",
       "    }\n",
       "\n",
       "    .dataframe tbody tr th {\n",
       "        vertical-align: top;\n",
       "    }\n",
       "\n",
       "    .dataframe thead th {\n",
       "        text-align: right;\n",
       "    }\n",
       "</style>\n",
       "<table border=\"1\" class=\"dataframe\">\n",
       "  <thead>\n",
       "    <tr style=\"text-align: right;\">\n",
       "      <th></th>\n",
       "      <th>PassengerId</th>\n",
       "      <th>Survived</th>\n",
       "      <th>Pclass</th>\n",
       "      <th>Age</th>\n",
       "      <th>SibSp</th>\n",
       "      <th>Parch</th>\n",
       "      <th>Fare</th>\n",
       "    </tr>\n",
       "  </thead>\n",
       "  <tbody>\n",
       "    <tr>\n",
       "      <td>count</td>\n",
       "      <td>891.000000</td>\n",
       "      <td>891.000000</td>\n",
       "      <td>891.000000</td>\n",
       "      <td>714.000000</td>\n",
       "      <td>891.000000</td>\n",
       "      <td>891.000000</td>\n",
       "      <td>891.000000</td>\n",
       "    </tr>\n",
       "    <tr>\n",
       "      <td>mean</td>\n",
       "      <td>446.000000</td>\n",
       "      <td>0.383838</td>\n",
       "      <td>2.308642</td>\n",
       "      <td>29.699118</td>\n",
       "      <td>0.523008</td>\n",
       "      <td>0.381594</td>\n",
       "      <td>32.204208</td>\n",
       "    </tr>\n",
       "    <tr>\n",
       "      <td>std</td>\n",
       "      <td>257.353842</td>\n",
       "      <td>0.486592</td>\n",
       "      <td>0.836071</td>\n",
       "      <td>14.526497</td>\n",
       "      <td>1.102743</td>\n",
       "      <td>0.806057</td>\n",
       "      <td>49.693429</td>\n",
       "    </tr>\n",
       "    <tr>\n",
       "      <td>min</td>\n",
       "      <td>1.000000</td>\n",
       "      <td>0.000000</td>\n",
       "      <td>1.000000</td>\n",
       "      <td>0.420000</td>\n",
       "      <td>0.000000</td>\n",
       "      <td>0.000000</td>\n",
       "      <td>0.000000</td>\n",
       "    </tr>\n",
       "    <tr>\n",
       "      <td>25%</td>\n",
       "      <td>223.500000</td>\n",
       "      <td>0.000000</td>\n",
       "      <td>2.000000</td>\n",
       "      <td>20.125000</td>\n",
       "      <td>0.000000</td>\n",
       "      <td>0.000000</td>\n",
       "      <td>7.910400</td>\n",
       "    </tr>\n",
       "    <tr>\n",
       "      <td>50%</td>\n",
       "      <td>446.000000</td>\n",
       "      <td>0.000000</td>\n",
       "      <td>3.000000</td>\n",
       "      <td>28.000000</td>\n",
       "      <td>0.000000</td>\n",
       "      <td>0.000000</td>\n",
       "      <td>14.454200</td>\n",
       "    </tr>\n",
       "    <tr>\n",
       "      <td>75%</td>\n",
       "      <td>668.500000</td>\n",
       "      <td>1.000000</td>\n",
       "      <td>3.000000</td>\n",
       "      <td>38.000000</td>\n",
       "      <td>1.000000</td>\n",
       "      <td>0.000000</td>\n",
       "      <td>31.000000</td>\n",
       "    </tr>\n",
       "    <tr>\n",
       "      <td>max</td>\n",
       "      <td>891.000000</td>\n",
       "      <td>1.000000</td>\n",
       "      <td>3.000000</td>\n",
       "      <td>80.000000</td>\n",
       "      <td>8.000000</td>\n",
       "      <td>6.000000</td>\n",
       "      <td>512.329200</td>\n",
       "    </tr>\n",
       "  </tbody>\n",
       "</table>\n",
       "</div>"
      ],
      "text/plain": [
       "       PassengerId    Survived      Pclass         Age       SibSp  \\\n",
       "count   891.000000  891.000000  891.000000  714.000000  891.000000   \n",
       "mean    446.000000    0.383838    2.308642   29.699118    0.523008   \n",
       "std     257.353842    0.486592    0.836071   14.526497    1.102743   \n",
       "min       1.000000    0.000000    1.000000    0.420000    0.000000   \n",
       "25%     223.500000    0.000000    2.000000   20.125000    0.000000   \n",
       "50%     446.000000    0.000000    3.000000   28.000000    0.000000   \n",
       "75%     668.500000    1.000000    3.000000   38.000000    1.000000   \n",
       "max     891.000000    1.000000    3.000000   80.000000    8.000000   \n",
       "\n",
       "            Parch        Fare  \n",
       "count  891.000000  891.000000  \n",
       "mean     0.381594   32.204208  \n",
       "std      0.806057   49.693429  \n",
       "min      0.000000    0.000000  \n",
       "25%      0.000000    7.910400  \n",
       "50%      0.000000   14.454200  \n",
       "75%      0.000000   31.000000  \n",
       "max      6.000000  512.329200  "
      ]
     },
     "execution_count": 8,
     "metadata": {},
     "output_type": "execute_result"
    }
   ],
   "source": [
    "# Write your code here. \n",
    "\n"
   ]
  },
  {
   "cell_type": "markdown",
   "metadata": {},
   "source": [
    "## Exercise 1\n",
    "\n",
    "We have done a number of things already to explore and question our data. In order to make it easier to picture in our heads, in the next block write out code to do Step 1 so that it is in one block of code (answering the four questions we asked in Step 1). \n",
    "\n",
    "### Extra Challenge\n",
    "Can you write this in one line of code, giving each element a title, and separating the output by a blank space so it is easier to read?"
   ]
  },
  {
   "cell_type": "code",
   "execution_count": 9,
   "metadata": {
    "ExecuteTime": {
     "end_time": "2019-12-22T12:59:53.241244Z",
     "start_time": "2019-12-22T12:59:53.211607Z"
    }
   },
   "outputs": [
    {
     "name": "stdout",
     "output_type": "stream",
     "text": [
      "\n",
      "Shape:  (891, 12) \n",
      "\n",
      "Variable Types:\n",
      " PassengerId      int64\n",
      "Survived         int64\n",
      "Pclass           int64\n",
      "Name            object\n",
      "Sex             object\n",
      "Age            float64\n",
      "SibSp            int64\n",
      "Parch            int64\n",
      "Ticket          object\n",
      "Fare           float64\n",
      "Cabin           object\n",
      "Embarked        object\n",
      "dtype: object \n",
      "\n",
      "Number of null values: \n",
      " PassengerId      0\n",
      "Survived         0\n",
      "Pclass           0\n",
      "Name             0\n",
      "Sex              0\n",
      "Age            177\n",
      "SibSp            0\n",
      "Parch            0\n",
      "Ticket           0\n",
      "Fare             0\n",
      "Cabin          687\n",
      "Embarked         2\n",
      "dtype: int64 \n",
      "\n",
      "Number of duplicated rows:\n",
      "  0 \n",
      "\n",
      "Statistical description:\n",
      "        PassengerId    Survived      Pclass         Age       SibSp  \\\n",
      "count   891.000000  891.000000  891.000000  714.000000  891.000000   \n",
      "mean    446.000000    0.383838    2.308642   29.699118    0.523008   \n",
      "std     257.353842    0.486592    0.836071   14.526497    1.102743   \n",
      "min       1.000000    0.000000    1.000000    0.420000    0.000000   \n",
      "25%     223.500000    0.000000    2.000000   20.125000    0.000000   \n",
      "50%     446.000000    0.000000    3.000000   28.000000    0.000000   \n",
      "75%     668.500000    1.000000    3.000000   38.000000    1.000000   \n",
      "max     891.000000    1.000000    3.000000   80.000000    8.000000   \n",
      "\n",
      "            Parch        Fare  \n",
      "count  891.000000  891.000000  \n",
      "mean     0.381594   32.204208  \n",
      "std      0.806057   49.693429  \n",
      "min      0.000000    0.000000  \n",
      "25%      0.000000    7.910400  \n",
      "50%      0.000000   14.454200  \n",
      "75%      0.000000   31.000000  \n",
      "max      6.000000  512.329200  \n"
     ]
    }
   ],
   "source": [
    "# Write your code here. \n",
    "\n"
   ]
  },
  {
   "cell_type": "markdown",
   "metadata": {},
   "source": [
    "# Step 2 - Clean and Verify the Data\n",
    "\n",
    "Now that we have done an initial look at the data, we know that there is some cleaning to do. Looking back at our notes from Step 1, we know that some of the variable types need to be changed. \n",
    "1. Let's discuss each variable before we change them. \n",
    "1. Then we will change each variable type to what we need them to be. \n",
    "\n",
    ">### A note on EDA intended output\n",
    ">Not every problem is the same, so not every EDA exercise will be either. Beyond the basic quality and cleanliness of your dataset (as Omar Elgabry states), “Understanding what are you trying to accomplish, your ultimate goal is critical prior to taking any actions.”. A clear understanding of the purpose and intended use case for your final dataset will inform any additional EDA tasks you may wish to perform.\n",
    "\n",
    ">For example, if your goal is to run your data through a machine learning algorithm to solve a binary classification problem (i.e. predict an outcome of yes/no, is likely/not likely, etc.), you’ll need to perform some type of “preprocessing” on your target (predictor) variable to assign binary values to your positive (1) and negative (0) classes. If your data includes “categorical” data types, you’ll need to convert them to numerical values prior to machine learning. A common pandas method to accomplish this is:\n",
    ">`.get_dummies()` — convert categorical variables [https://pandas.pydata.org/pandas-docs/stable/reference/api/pandas.get_dummies.html]\n",
    "\n",
    "## Integer, Float or Object?\n",
    "How many of our variable types are integers or floats which will be used as text or \"objects\"?\n",
    "\n",
    "In the next block, using what we have already learned from our meetings about Pandas, change the variables appropriately from our discussion for this dataset. Then verify that the changes have taken place. "
   ]
  },
  {
   "cell_type": "code",
   "execution_count": 10,
   "metadata": {
    "ExecuteTime": {
     "end_time": "2019-12-22T12:59:53.249550Z",
     "start_time": "2019-12-22T12:59:53.242906Z"
    }
   },
   "outputs": [
    {
     "data": {
      "text/plain": [
       "PassengerId     object\n",
       "Survived         int64\n",
       "Pclass           int64\n",
       "Name            object\n",
       "Sex             object\n",
       "Age            float64\n",
       "SibSp            int64\n",
       "Parch            int64\n",
       "Ticket          object\n",
       "Fare           float64\n",
       "Cabin           object\n",
       "Embarked        object\n",
       "dtype: object"
      ]
     },
     "execution_count": 10,
     "metadata": {},
     "output_type": "execute_result"
    }
   ],
   "source": [
    "# Write your code here\n",
    "\n"
   ]
  },
  {
   "cell_type": "markdown",
   "metadata": {},
   "source": [
    "## What about Column Titles?\n",
    "\n",
    "This step is purely optional, but we will do it anyway so that we have nice and clean column titles. \n",
    "\n",
    "When we talked about Pandas previously, we discussed on method of changing column titles by listing them out in a dictionary and changing the titles. While that method is fine for the dataset we used at the time (and could be used for this dataset given its limited number of columns), what happens when you have 25 feature names? 75? 1000?\n",
    "\n",
    "Another simple method to changing all of the feature names to columns is to use the `map()` command - which maps back to the DataFrame what you want to change. In addition, we want to use the `.lower()` command which changes all of the strings that you designate to all lower case. \n",
    "\n",
    "I took the liberty of writing out this code so you can see how it works. "
   ]
  },
  {
   "cell_type": "code",
   "execution_count": 11,
   "metadata": {
    "ExecuteTime": {
     "end_time": "2019-12-22T12:59:53.264610Z",
     "start_time": "2019-12-22T12:59:53.250947Z"
    }
   },
   "outputs": [
    {
     "data": {
      "text/html": [
       "<div>\n",
       "<style scoped>\n",
       "    .dataframe tbody tr th:only-of-type {\n",
       "        vertical-align: middle;\n",
       "    }\n",
       "\n",
       "    .dataframe tbody tr th {\n",
       "        vertical-align: top;\n",
       "    }\n",
       "\n",
       "    .dataframe thead th {\n",
       "        text-align: right;\n",
       "    }\n",
       "</style>\n",
       "<table border=\"1\" class=\"dataframe\">\n",
       "  <thead>\n",
       "    <tr style=\"text-align: right;\">\n",
       "      <th></th>\n",
       "      <th>passengerid</th>\n",
       "      <th>survived</th>\n",
       "      <th>pclass</th>\n",
       "      <th>name</th>\n",
       "      <th>sex</th>\n",
       "      <th>age</th>\n",
       "      <th>sibsp</th>\n",
       "      <th>parch</th>\n",
       "      <th>ticket</th>\n",
       "      <th>fare</th>\n",
       "      <th>cabin</th>\n",
       "      <th>embarked</th>\n",
       "    </tr>\n",
       "  </thead>\n",
       "  <tbody>\n",
       "    <tr>\n",
       "      <td>0</td>\n",
       "      <td>1</td>\n",
       "      <td>0</td>\n",
       "      <td>3</td>\n",
       "      <td>Braund, Mr. Owen Harris</td>\n",
       "      <td>male</td>\n",
       "      <td>22.0</td>\n",
       "      <td>1</td>\n",
       "      <td>0</td>\n",
       "      <td>A/5 21171</td>\n",
       "      <td>7.2500</td>\n",
       "      <td>NaN</td>\n",
       "      <td>S</td>\n",
       "    </tr>\n",
       "    <tr>\n",
       "      <td>1</td>\n",
       "      <td>2</td>\n",
       "      <td>1</td>\n",
       "      <td>1</td>\n",
       "      <td>Cumings, Mrs. John Bradley (Florence Briggs Th...</td>\n",
       "      <td>female</td>\n",
       "      <td>38.0</td>\n",
       "      <td>1</td>\n",
       "      <td>0</td>\n",
       "      <td>PC 17599</td>\n",
       "      <td>71.2833</td>\n",
       "      <td>C85</td>\n",
       "      <td>C</td>\n",
       "    </tr>\n",
       "    <tr>\n",
       "      <td>2</td>\n",
       "      <td>3</td>\n",
       "      <td>1</td>\n",
       "      <td>3</td>\n",
       "      <td>Heikkinen, Miss. Laina</td>\n",
       "      <td>female</td>\n",
       "      <td>26.0</td>\n",
       "      <td>0</td>\n",
       "      <td>0</td>\n",
       "      <td>STON/O2. 3101282</td>\n",
       "      <td>7.9250</td>\n",
       "      <td>NaN</td>\n",
       "      <td>S</td>\n",
       "    </tr>\n",
       "    <tr>\n",
       "      <td>3</td>\n",
       "      <td>4</td>\n",
       "      <td>1</td>\n",
       "      <td>1</td>\n",
       "      <td>Futrelle, Mrs. Jacques Heath (Lily May Peel)</td>\n",
       "      <td>female</td>\n",
       "      <td>35.0</td>\n",
       "      <td>1</td>\n",
       "      <td>0</td>\n",
       "      <td>113803</td>\n",
       "      <td>53.1000</td>\n",
       "      <td>C123</td>\n",
       "      <td>S</td>\n",
       "    </tr>\n",
       "    <tr>\n",
       "      <td>4</td>\n",
       "      <td>5</td>\n",
       "      <td>0</td>\n",
       "      <td>3</td>\n",
       "      <td>Allen, Mr. William Henry</td>\n",
       "      <td>male</td>\n",
       "      <td>35.0</td>\n",
       "      <td>0</td>\n",
       "      <td>0</td>\n",
       "      <td>373450</td>\n",
       "      <td>8.0500</td>\n",
       "      <td>NaN</td>\n",
       "      <td>S</td>\n",
       "    </tr>\n",
       "  </tbody>\n",
       "</table>\n",
       "</div>"
      ],
      "text/plain": [
       "  passengerid  survived  pclass  \\\n",
       "0           1         0       3   \n",
       "1           2         1       1   \n",
       "2           3         1       3   \n",
       "3           4         1       1   \n",
       "4           5         0       3   \n",
       "\n",
       "                                                name     sex   age  sibsp  \\\n",
       "0                            Braund, Mr. Owen Harris    male  22.0      1   \n",
       "1  Cumings, Mrs. John Bradley (Florence Briggs Th...  female  38.0      1   \n",
       "2                             Heikkinen, Miss. Laina  female  26.0      0   \n",
       "3       Futrelle, Mrs. Jacques Heath (Lily May Peel)  female  35.0      1   \n",
       "4                           Allen, Mr. William Henry    male  35.0      0   \n",
       "\n",
       "   parch            ticket     fare cabin embarked  \n",
       "0      0         A/5 21171   7.2500   NaN        S  \n",
       "1      0          PC 17599  71.2833   C85        C  \n",
       "2      0  STON/O2. 3101282   7.9250   NaN        S  \n",
       "3      0            113803  53.1000  C123        S  \n",
       "4      0            373450   8.0500   NaN        S  "
      ]
     },
     "execution_count": 11,
     "metadata": {},
     "output_type": "execute_result"
    }
   ],
   "source": [
    "# Map the lowering function to all column names\n",
    "df.columns = map(str.lower, df.columns)\n",
    "\n",
    "df.head()"
   ]
  },
  {
   "cell_type": "markdown",
   "metadata": {},
   "source": [
    "## Exercise 2: Verify and Explore the Data a Bit More\n",
    "\n",
    "Now that we have cleaned our data, let's do a bit more exploring by way of separating and plotting the values.\n",
    "\n",
    "### Separating the columns into numeric & categorical\n",
    "\n",
    "Having a list of the numeric columns and a list of the categorical columns comes in handy for plotting and for working with each category. In the next block, write a block of code that examines each column and separates it into a numeric column (num_column) list or into a categorical column (cat_column) list. Then print out each list with a title to the list. "
   ]
  },
  {
   "cell_type": "code",
   "execution_count": 12,
   "metadata": {
    "ExecuteTime": {
     "end_time": "2019-12-22T12:59:53.272286Z",
     "start_time": "2019-12-22T12:59:53.266006Z"
    }
   },
   "outputs": [
    {
     "name": "stdout",
     "output_type": "stream",
     "text": [
      "Numeric columns:\n",
      " ['survived', 'pclass', 'age', 'sibsp', 'parch', 'fare']\n",
      "\n",
      "Categorical columns: \n",
      " ['passengerid', 'name', 'sex', 'ticket', 'cabin', 'embarked']\n"
     ]
    }
   ],
   "source": [
    "#Write your code here.\n",
    "\n"
   ]
  },
  {
   "cell_type": "markdown",
   "metadata": {},
   "source": [
    "#### So why do we want to lists of column types?\n",
    "\n",
    "In the next block of code you will see that by having a list of all of the numerical column names, we can produce multiple charts with one simple line of code. "
   ]
  },
  {
   "cell_type": "code",
   "execution_count": 13,
   "metadata": {
    "ExecuteTime": {
     "end_time": "2019-12-22T12:59:54.140760Z",
     "start_time": "2019-12-22T12:59:53.273803Z"
    }
   },
   "outputs": [
    {
     "data": {
      "image/png": "[encoded data removed]",
      "text/plain": [
       "<Figure size 1080x1080 with 6 Axes>"
      ]
     },
     "metadata": {
      "needs_background": "light"
     },
     "output_type": "display_data"
    }
   ],
   "source": [
    "#This will turn off any warnings from running the next bit of code.\n",
    "import warnings\n",
    "warnings.filterwarnings('ignore')\n",
    "\n",
    "#We set the figure size.\n",
    "plt.figure(figsize = (15,15))\n",
    "\n",
    "#This allows you to retrieve the axis in the figure we will create\n",
    "# so that we can print two charts side by side. \n",
    "# It is needed in the next line of code.\n",
    "ax = plt.gca()\n",
    "\n",
    "#This plots each of the numerical columns on a separate histogram\n",
    "# with two histograms per row.\n",
    "df[num_columns].hist(ax=ax)\n",
    "\n",
    "# And this shows the graphs.\n",
    "plt.show()"
   ]
  },
  {
   "cell_type": "markdown",
   "metadata": {},
   "source": [
    "### pclass & survived\n",
    "\n",
    "Using the seaborn library, select an appropriate plot to examine the relationship between pclass and survived."
   ]
  },
  {
   "cell_type": "code",
   "execution_count": 14,
   "metadata": {
    "ExecuteTime": {
     "end_time": "2019-12-22T12:59:54.590211Z",
     "start_time": "2019-12-22T12:59:54.142504Z"
    },
    "scrolled": true
   },
   "outputs": [
    {
     "data": {
      "image/png": "[encoded data removed]",
      "text/plain": [
       "<Figure size 432x288 with 1 Axes>"
      ]
     },
     "metadata": {
      "needs_background": "light"
     },
     "output_type": "display_data"
    }
   ],
   "source": [
    "#Write your code here. \n",
    "\n"
   ]
  },
  {
   "cell_type": "markdown",
   "metadata": {},
   "source": [
    "### sex & survived\n",
    "\n",
    "Using the seaborn library, select an appropriate plot to examine the relationship between sex and survived."
   ]
  },
  {
   "cell_type": "code",
   "execution_count": 15,
   "metadata": {
    "ExecuteTime": {
     "end_time": "2019-12-22T12:59:54.791513Z",
     "start_time": "2019-12-22T12:59:54.592097Z"
    }
   },
   "outputs": [
    {
     "data": {
      "text/plain": [
       "<matplotlib.axes._subplots.AxesSubplot at 0x1a1a1b8390>"
      ]
     },
     "execution_count": 15,
     "metadata": {},
     "output_type": "execute_result"
    },
    {
     "data": {
      "image/png": "[encoded data removed]",
      "text/plain": [
       "<Figure size 432x288 with 1 Axes>"
      ]
     },
     "metadata": {
      "needs_background": "light"
     },
     "output_type": "display_data"
    }
   ],
   "source": [
    "# Write your code here. \n",
    "\n"
   ]
  },
  {
   "cell_type": "markdown",
   "metadata": {},
   "source": [
    "### age & survived\n",
    "\n",
    "Using the seaborn library, select an appropriate plot to examine the relationship between age and survived."
   ]
  },
  {
   "cell_type": "code",
   "execution_count": 16,
   "metadata": {
    "ExecuteTime": {
     "end_time": "2019-12-22T12:59:54.928287Z",
     "start_time": "2019-12-22T12:59:54.793132Z"
    }
   },
   "outputs": [
    {
     "data": {
      "text/plain": [
       "<matplotlib.axes._subplots.AxesSubplot at 0x1a1a160050>"
      ]
     },
     "execution_count": 16,
     "metadata": {},
     "output_type": "execute_result"
    },
    {
     "data": {
      "image/png": "[encoded data removed]",
      "text/plain": [
       "<Figure size 432x288 with 1 Axes>"
      ]
     },
     "metadata": {
      "needs_background": "light"
     },
     "output_type": "display_data"
    }
   ],
   "source": [
    "# Write your code here. \n",
    "\n"
   ]
  },
  {
   "cell_type": "markdown",
   "metadata": {},
   "source": [
    "### parch & survived\n",
    "\n",
    "Using the seaborn library, select an appropriate plot to examine the relationship between parch and survived."
   ]
  },
  {
   "cell_type": "code",
   "execution_count": 17,
   "metadata": {
    "ExecuteTime": {
     "end_time": "2019-12-22T12:59:55.122487Z",
     "start_time": "2019-12-22T12:59:54.929731Z"
    }
   },
   "outputs": [
    {
     "data": {
      "text/plain": [
       "<matplotlib.axes._subplots.AxesSubplot at 0x1a1a348f90>"
      ]
     },
     "execution_count": 17,
     "metadata": {},
     "output_type": "execute_result"
    },
    {
     "data": {
      "image/png": "[encoded data removed]",
      "text/plain": [
       "<Figure size 432x288 with 1 Axes>"
      ]
     },
     "metadata": {
      "needs_background": "light"
     },
     "output_type": "display_data"
    }
   ],
   "source": [
    "# Write your code here. \n",
    "\n"
   ]
  },
  {
   "cell_type": "markdown",
   "metadata": {},
   "source": [
    "### embark & survived\n",
    "\n",
    "Using the seaborn library, select an appropriate plot to examine the relationship between embarked and survived."
   ]
  },
  {
   "cell_type": "code",
   "execution_count": 18,
   "metadata": {
    "ExecuteTime": {
     "end_time": "2019-12-22T12:59:55.373263Z",
     "start_time": "2019-12-22T12:59:55.123731Z"
    }
   },
   "outputs": [
    {
     "data": {
      "text/plain": [
       "<matplotlib.axes._subplots.AxesSubplot at 0x1a1a375490>"
      ]
     },
     "execution_count": 18,
     "metadata": {},
     "output_type": "execute_result"
    },
    {
     "data": {
      "image/png": "[encoded data removed]",
      "text/plain": [
       "<Figure size 432x288 with 1 Axes>"
      ]
     },
     "metadata": {
      "needs_background": "light"
     },
     "output_type": "display_data"
    }
   ],
   "source": [
    "# Write your code here. \n",
    "\n"
   ]
  },
  {
   "cell_type": "markdown",
   "metadata": {},
   "source": [
    "### sibsp & survived\n",
    "\n",
    "Using the seaborn library, select an appropriate plot to examine the relationship between sibsp and survived."
   ]
  },
  {
   "cell_type": "code",
   "execution_count": 19,
   "metadata": {
    "ExecuteTime": {
     "end_time": "2019-12-22T12:59:55.509220Z",
     "start_time": "2019-12-22T12:59:55.374588Z"
    }
   },
   "outputs": [
    {
     "data": {
      "text/plain": [
       "<matplotlib.axes._subplots.AxesSubplot at 0x1a1a50a650>"
      ]
     },
     "execution_count": 19,
     "metadata": {},
     "output_type": "execute_result"
    },
    {
     "data": {
      "image/png": "[encoded data removed]",
      "text/plain": [
       "<Figure size 432x288 with 1 Axes>"
      ]
     },
     "metadata": {
      "needs_background": "light"
     },
     "output_type": "display_data"
    }
   ],
   "source": [
    "# Write your code here. \n",
    "\n"
   ]
  },
  {
   "cell_type": "markdown",
   "metadata": {},
   "source": [
    "### fare & pclass & survived\n",
    "\n",
    "Using the seaborn library, select an appropriate plot to examine the relationship between fare, pclass, and survived."
   ]
  },
  {
   "cell_type": "code",
   "execution_count": 20,
   "metadata": {
    "ExecuteTime": {
     "end_time": "2019-12-22T12:59:55.723537Z",
     "start_time": "2019-12-22T12:59:55.510350Z"
    }
   },
   "outputs": [
    {
     "data": {
      "text/plain": [
       "<matplotlib.axes._subplots.AxesSubplot at 0x1a1a50a250>"
      ]
     },
     "execution_count": 20,
     "metadata": {},
     "output_type": "execute_result"
    },
    {
     "data": {
      "image/png": "[encoded data removed]",
      "text/plain": [
       "<Figure size 432x288 with 1 Axes>"
      ]
     },
     "metadata": {
      "needs_background": "light"
     },
     "output_type": "display_data"
    }
   ],
   "source": [
    "# Write your code here. \n",
    "\n"
   ]
  },
  {
   "cell_type": "markdown",
   "metadata": {},
   "source": [
    "### sex & pclass & survived\n",
    "\n",
    "Using the seaborn library, select an appropriate plot to examine the relationship between sex, pclass, and survived."
   ]
  },
  {
   "cell_type": "code",
   "execution_count": 21,
   "metadata": {
    "ExecuteTime": {
     "end_time": "2019-12-22T12:59:55.915621Z",
     "start_time": "2019-12-22T12:59:55.725262Z"
    }
   },
   "outputs": [
    {
     "data": {
      "text/plain": [
       "<matplotlib.axes._subplots.AxesSubplot at 0x1a1a78b490>"
      ]
     },
     "execution_count": 21,
     "metadata": {},
     "output_type": "execute_result"
    },
    {
     "data": {
      "image/png": "[encoded data removed]",
      "text/plain": [
       "<Figure size 432x288 with 1 Axes>"
      ]
     },
     "metadata": {
      "needs_background": "light"
     },
     "output_type": "display_data"
    }
   ],
   "source": [
    "# Write your code here. \n",
    "\n"
   ]
  },
  {
   "cell_type": "markdown",
   "metadata": {},
   "source": [
    "### sex & age & survived\n",
    "\n",
    "Using the seaborn library, select an appropriate plot to examine the relationship between sex, age, and survived."
   ]
  },
  {
   "cell_type": "code",
   "execution_count": 22,
   "metadata": {
    "ExecuteTime": {
     "end_time": "2019-12-22T12:59:56.176094Z",
     "start_time": "2019-12-22T12:59:55.917378Z"
    },
    "scrolled": true
   },
   "outputs": [
    {
     "data": {
      "text/plain": [
       "<matplotlib.legend.Legend at 0x1a1a8b1b10>"
      ]
     },
     "execution_count": 22,
     "metadata": {},
     "output_type": "execute_result"
    },
    {
     "data": {
      "image/png": "[encoded data removed]",
      "text/plain": [
       "<Figure size 432x288 with 1 Axes>"
      ]
     },
     "metadata": {
      "needs_background": "light"
     },
     "output_type": "display_data"
    }
   ],
   "source": [
    "# Write your code here. \n",
    "\n"
   ]
  },
  {
   "cell_type": "markdown",
   "metadata": {},
   "source": [
    "### sex & parch & survived\n",
    "\n",
    "Using the seaborn library, select an appropriate plot to examine the relationship between sex, parch, and survived."
   ]
  },
  {
   "cell_type": "code",
   "execution_count": 23,
   "metadata": {
    "ExecuteTime": {
     "end_time": "2019-12-22T13:00:03.635885Z",
     "start_time": "2019-12-22T12:59:56.179093Z"
    },
    "scrolled": true
   },
   "outputs": [
    {
     "data": {
      "text/plain": [
       "(0, 6)"
      ]
     },
     "execution_count": 23,
     "metadata": {},
     "output_type": "execute_result"
    },
    {
     "data": {
      "image/png": "[encoded data removed]",
      "text/plain": [
       "<Figure size 432x288 with 1 Axes>"
      ]
     },
     "metadata": {
      "needs_background": "light"
     },
     "output_type": "display_data"
    }
   ],
   "source": [
    "# Write your code here. \n",
    "\n"
   ]
  },
  {
   "cell_type": "markdown",
   "metadata": {},
   "source": [
    "### age & pclass & survived\n",
    "\n",
    "Using the seaborn library, select an appropriate plot to examine the relationship between age, pclass, and survived."
   ]
  },
  {
   "cell_type": "code",
   "execution_count": 24,
   "metadata": {
    "ExecuteTime": {
     "end_time": "2019-12-22T13:00:03.980954Z",
     "start_time": "2019-12-22T13:00:03.637940Z"
    }
   },
   "outputs": [
    {
     "data": {
      "text/plain": [
       "<matplotlib.axes._subplots.AxesSubplot at 0x1a1aaa42d0>"
      ]
     },
     "execution_count": 24,
     "metadata": {},
     "output_type": "execute_result"
    },
    {
     "data": {
      "image/png": "[encoded data removed]",
      "text/plain": [
       "<Figure size 432x288 with 1 Axes>"
      ]
     },
     "metadata": {
      "needs_background": "light"
     },
     "output_type": "display_data"
    }
   ],
   "source": [
    "# Write your code here. \n",
    "\n"
   ]
  },
  {
   "cell_type": "code",
   "execution_count": 25,
   "metadata": {
    "ExecuteTime": {
     "end_time": "2019-12-22T13:00:04.533778Z",
     "start_time": "2019-12-22T13:00:03.982298Z"
    },
    "scrolled": true
   },
   "outputs": [
    {
     "data": {
      "text/plain": [
       "<matplotlib.legend.Legend at 0x1a1ac12c90>"
      ]
     },
     "execution_count": 25,
     "metadata": {},
     "output_type": "execute_result"
    },
    {
     "data": {
      "image/png": "[encoded data removed]",
      "text/plain": [
       "<Figure size 432x288 with 1 Axes>"
      ]
     },
     "metadata": {
      "needs_background": "light"
     },
     "output_type": "display_data"
    }
   ],
   "source": [
    "# Write your code here. \n",
    "\n"
   ]
  },
  {
   "cell_type": "markdown",
   "metadata": {},
   "source": [
    "### Bonus Lesson Item: crosstab\n",
    "\n",
    "For color selections, go to [https://matplotlib.org/3.1.1/tutorials/colors/colormaps.html#sphx-glr-tutorials-colors-colormaps-py]\n"
   ]
  },
  {
   "cell_type": "code",
   "execution_count": 26,
   "metadata": {
    "ExecuteTime": {
     "end_time": "2019-12-22T13:00:04.863215Z",
     "start_time": "2019-12-22T13:00:04.535161Z"
    }
   },
   "outputs": [
    {
     "data": {
      "text/html": [
       "<style  type=\"text/css\" >\n",
       "    #T_f90505ea_24ba_11ea_b7fc_acde48001122row0_col0 {\n",
       "            background-color:  #f0f921;\n",
       "            color:  #000000;\n",
       "        }    #T_f90505ea_24ba_11ea_b7fc_acde48001122row0_col1 {\n",
       "            background-color:  #f0f921;\n",
       "            color:  #000000;\n",
       "        }    #T_f90505ea_24ba_11ea_b7fc_acde48001122row0_col2 {\n",
       "            background-color:  #f8e125;\n",
       "            color:  #000000;\n",
       "        }    #T_f90505ea_24ba_11ea_b7fc_acde48001122row0_col3 {\n",
       "            background-color:  #f0f921;\n",
       "            color:  #000000;\n",
       "        }    #T_f90505ea_24ba_11ea_b7fc_acde48001122row1_col0 {\n",
       "            background-color:  #de6164;\n",
       "            color:  #000000;\n",
       "        }    #T_f90505ea_24ba_11ea_b7fc_acde48001122row1_col1 {\n",
       "            background-color:  #e87059;\n",
       "            color:  #000000;\n",
       "        }    #T_f90505ea_24ba_11ea_b7fc_acde48001122row1_col2 {\n",
       "            background-color:  #f8e125;\n",
       "            color:  #000000;\n",
       "        }    #T_f90505ea_24ba_11ea_b7fc_acde48001122row1_col3 {\n",
       "            background-color:  #fdab33;\n",
       "            color:  #000000;\n",
       "        }    #T_f90505ea_24ba_11ea_b7fc_acde48001122row2_col0 {\n",
       "            background-color:  #eb7556;\n",
       "            color:  #000000;\n",
       "        }    #T_f90505ea_24ba_11ea_b7fc_acde48001122row2_col1 {\n",
       "            background-color:  #d04d73;\n",
       "            color:  #000000;\n",
       "        }    #T_f90505ea_24ba_11ea_b7fc_acde48001122row2_col2 {\n",
       "            background-color:  #ba3388;\n",
       "            color:  #f1f1f1;\n",
       "        }    #T_f90505ea_24ba_11ea_b7fc_acde48001122row2_col3 {\n",
       "            background-color:  #d04d73;\n",
       "            color:  #000000;\n",
       "        }    #T_f90505ea_24ba_11ea_b7fc_acde48001122row3_col0 {\n",
       "            background-color:  #fca835;\n",
       "            color:  #000000;\n",
       "        }    #T_f90505ea_24ba_11ea_b7fc_acde48001122row3_col1 {\n",
       "            background-color:  #f8df25;\n",
       "            color:  #000000;\n",
       "        }    #T_f90505ea_24ba_11ea_b7fc_acde48001122row3_col2 {\n",
       "            background-color:  #f0f921;\n",
       "            color:  #000000;\n",
       "        }    #T_f90505ea_24ba_11ea_b7fc_acde48001122row3_col3 {\n",
       "            background-color:  #f5eb27;\n",
       "            color:  #000000;\n",
       "        }    #T_f90505ea_24ba_11ea_b7fc_acde48001122row4_col0 {\n",
       "            background-color:  #0d0887;\n",
       "            color:  #f1f1f1;\n",
       "        }    #T_f90505ea_24ba_11ea_b7fc_acde48001122row4_col1 {\n",
       "            background-color:  #0d0887;\n",
       "            color:  #f1f1f1;\n",
       "        }    #T_f90505ea_24ba_11ea_b7fc_acde48001122row4_col2 {\n",
       "            background-color:  #0d0887;\n",
       "            color:  #f1f1f1;\n",
       "        }    #T_f90505ea_24ba_11ea_b7fc_acde48001122row4_col3 {\n",
       "            background-color:  #0d0887;\n",
       "            color:  #f1f1f1;\n",
       "        }</style><table id=\"T_f90505ea_24ba_11ea_b7fc_acde48001122\" ><thead>    <tr>        <th class=\"blank\" ></th>        <th class=\"index_name level0\" >pclass</th>        <th class=\"col_heading level0 col0\" >1</th>        <th class=\"col_heading level0 col1\" >2</th>        <th class=\"col_heading level0 col2\" >3</th>        <th class=\"col_heading level0 col3\" >All</th>    </tr>    <tr>        <th class=\"index_name level0\" >sex</th>        <th class=\"index_name level1\" >survived</th>        <th class=\"blank\" ></th>        <th class=\"blank\" ></th>        <th class=\"blank\" ></th>        <th class=\"blank\" ></th>    </tr></thead><tbody>\n",
       "                <tr>\n",
       "                        <th id=\"T_f90505ea_24ba_11ea_b7fc_acde48001122level0_row0\" class=\"row_heading level0 row0\" rowspan=2>female</th>\n",
       "                        <th id=\"T_f90505ea_24ba_11ea_b7fc_acde48001122level1_row0\" class=\"row_heading level1 row0\" >0</th>\n",
       "                        <td id=\"T_f90505ea_24ba_11ea_b7fc_acde48001122row0_col0\" class=\"data row0 col0\" >3</td>\n",
       "                        <td id=\"T_f90505ea_24ba_11ea_b7fc_acde48001122row0_col1\" class=\"data row0 col1\" >6</td>\n",
       "                        <td id=\"T_f90505ea_24ba_11ea_b7fc_acde48001122row0_col2\" class=\"data row0 col2\" >72</td>\n",
       "                        <td id=\"T_f90505ea_24ba_11ea_b7fc_acde48001122row0_col3\" class=\"data row0 col3\" >81</td>\n",
       "            </tr>\n",
       "            <tr>\n",
       "                                <th id=\"T_f90505ea_24ba_11ea_b7fc_acde48001122level1_row1\" class=\"row_heading level1 row1\" >1</th>\n",
       "                        <td id=\"T_f90505ea_24ba_11ea_b7fc_acde48001122row1_col0\" class=\"data row1 col0\" >91</td>\n",
       "                        <td id=\"T_f90505ea_24ba_11ea_b7fc_acde48001122row1_col1\" class=\"data row1 col1\" >70</td>\n",
       "                        <td id=\"T_f90505ea_24ba_11ea_b7fc_acde48001122row1_col2\" class=\"data row1 col2\" >72</td>\n",
       "                        <td id=\"T_f90505ea_24ba_11ea_b7fc_acde48001122row1_col3\" class=\"data row1 col3\" >233</td>\n",
       "            </tr>\n",
       "            <tr>\n",
       "                        <th id=\"T_f90505ea_24ba_11ea_b7fc_acde48001122level0_row2\" class=\"row_heading level0 row2\" rowspan=2>male</th>\n",
       "                        <th id=\"T_f90505ea_24ba_11ea_b7fc_acde48001122level1_row2\" class=\"row_heading level1 row2\" >0</th>\n",
       "                        <td id=\"T_f90505ea_24ba_11ea_b7fc_acde48001122row2_col0\" class=\"data row2 col0\" >77</td>\n",
       "                        <td id=\"T_f90505ea_24ba_11ea_b7fc_acde48001122row2_col1\" class=\"data row2 col1\" >91</td>\n",
       "                        <td id=\"T_f90505ea_24ba_11ea_b7fc_acde48001122row2_col2\" class=\"data row2 col2\" >300</td>\n",
       "                        <td id=\"T_f90505ea_24ba_11ea_b7fc_acde48001122row2_col3\" class=\"data row2 col3\" >468</td>\n",
       "            </tr>\n",
       "            <tr>\n",
       "                                <th id=\"T_f90505ea_24ba_11ea_b7fc_acde48001122level1_row3\" class=\"row_heading level1 row3\" >1</th>\n",
       "                        <td id=\"T_f90505ea_24ba_11ea_b7fc_acde48001122row3_col0\" class=\"data row3 col0\" >45</td>\n",
       "                        <td id=\"T_f90505ea_24ba_11ea_b7fc_acde48001122row3_col1\" class=\"data row3 col1\" >17</td>\n",
       "                        <td id=\"T_f90505ea_24ba_11ea_b7fc_acde48001122row3_col2\" class=\"data row3 col2\" >47</td>\n",
       "                        <td id=\"T_f90505ea_24ba_11ea_b7fc_acde48001122row3_col3\" class=\"data row3 col3\" >109</td>\n",
       "            </tr>\n",
       "            <tr>\n",
       "                        <th id=\"T_f90505ea_24ba_11ea_b7fc_acde48001122level0_row4\" class=\"row_heading level0 row4\" >All</th>\n",
       "                        <th id=\"T_f90505ea_24ba_11ea_b7fc_acde48001122level1_row4\" class=\"row_heading level1 row4\" ></th>\n",
       "                        <td id=\"T_f90505ea_24ba_11ea_b7fc_acde48001122row4_col0\" class=\"data row4 col0\" >216</td>\n",
       "                        <td id=\"T_f90505ea_24ba_11ea_b7fc_acde48001122row4_col1\" class=\"data row4 col1\" >184</td>\n",
       "                        <td id=\"T_f90505ea_24ba_11ea_b7fc_acde48001122row4_col2\" class=\"data row4 col2\" >491</td>\n",
       "                        <td id=\"T_f90505ea_24ba_11ea_b7fc_acde48001122row4_col3\" class=\"data row4 col3\" >891</td>\n",
       "            </tr>\n",
       "    </tbody></table>"
      ],
      "text/plain": [
       "<pandas.io.formats.style.Styler at 0x1a1abc1690>"
      ]
     },
     "execution_count": 26,
     "metadata": {},
     "output_type": "execute_result"
    }
   ],
   "source": [
    "pd.crosstab([df.sex, df.survived], df.pclass, margins=True).style.background_gradient(cmap='plasma_r')"
   ]
  },
  {
   "cell_type": "code",
   "execution_count": 27,
   "metadata": {
    "ExecuteTime": {
     "end_time": "2019-12-22T13:00:05.021846Z",
     "start_time": "2019-12-22T13:00:04.864420Z"
    }
   },
   "outputs": [
    {
     "data": {
      "text/html": [
       "<style  type=\"text/css\" >\n",
       "    #T_f91cf826_24ba_11ea_b7fc_acde48001122row0_col0 {\n",
       "            background-color:  #f9795d;\n",
       "            color:  #000000;\n",
       "        }    #T_f91cf826_24ba_11ea_b7fc_acde48001122row0_col1 {\n",
       "            background-color:  #e44f64;\n",
       "            color:  #000000;\n",
       "        }    #T_f91cf826_24ba_11ea_b7fc_acde48001122row0_col2 {\n",
       "            background-color:  #a3307e;\n",
       "            color:  #f1f1f1;\n",
       "        }    #T_f91cf826_24ba_11ea_b7fc_acde48001122row0_col3 {\n",
       "            background-color:  #cd4071;\n",
       "            color:  #f1f1f1;\n",
       "        }    #T_f91cf826_24ba_11ea_b7fc_acde48001122row1_col0 {\n",
       "            background-color:  #eb5760;\n",
       "            color:  #000000;\n",
       "        }    #T_f91cf826_24ba_11ea_b7fc_acde48001122row1_col1 {\n",
       "            background-color:  #fa7d5e;\n",
       "            color:  #000000;\n",
       "        }    #T_f91cf826_24ba_11ea_b7fc_acde48001122row1_col2 {\n",
       "            background-color:  #feb078;\n",
       "            color:  #000000;\n",
       "        }    #T_f91cf826_24ba_11ea_b7fc_acde48001122row1_col3 {\n",
       "            background-color:  #fc9065;\n",
       "            color:  #000000;\n",
       "        }    #T_f91cf826_24ba_11ea_b7fc_acde48001122row2_col0 {\n",
       "            background-color:  #fed799;\n",
       "            color:  #000000;\n",
       "        }    #T_f91cf826_24ba_11ea_b7fc_acde48001122row2_col1 {\n",
       "            background-color:  #fec287;\n",
       "            color:  #000000;\n",
       "        }    #T_f91cf826_24ba_11ea_b7fc_acde48001122row2_col2 {\n",
       "            background-color:  #feca8d;\n",
       "            color:  #000000;\n",
       "        }    #T_f91cf826_24ba_11ea_b7fc_acde48001122row2_col3 {\n",
       "            background-color:  #fecc8f;\n",
       "            color:  #000000;\n",
       "        }    #T_f91cf826_24ba_11ea_b7fc_acde48001122row3_col0 {\n",
       "            background-color:  #fc8a62;\n",
       "            color:  #000000;\n",
       "        }    #T_f91cf826_24ba_11ea_b7fc_acde48001122row3_col1 {\n",
       "            background-color:  #feac76;\n",
       "            color:  #000000;\n",
       "        }    #T_f91cf826_24ba_11ea_b7fc_acde48001122row3_col2 {\n",
       "            background-color:  #fde5a7;\n",
       "            color:  #000000;\n",
       "        }    #T_f91cf826_24ba_11ea_b7fc_acde48001122row3_col3 {\n",
       "            background-color:  #fec488;\n",
       "            color:  #000000;\n",
       "        }    #T_f91cf826_24ba_11ea_b7fc_acde48001122row4_col0 {\n",
       "            background-color:  #fcfbbd;\n",
       "            color:  #000000;\n",
       "        }    #T_f91cf826_24ba_11ea_b7fc_acde48001122row4_col1 {\n",
       "            background-color:  #fcf4b6;\n",
       "            color:  #000000;\n",
       "        }    #T_f91cf826_24ba_11ea_b7fc_acde48001122row4_col2 {\n",
       "            background-color:  #fcf6b8;\n",
       "            color:  #000000;\n",
       "        }    #T_f91cf826_24ba_11ea_b7fc_acde48001122row4_col3 {\n",
       "            background-color:  #fcf7b9;\n",
       "            color:  #000000;\n",
       "        }    #T_f91cf826_24ba_11ea_b7fc_acde48001122row5_col0 {\n",
       "            background-color:  #fcf6b8;\n",
       "            color:  #000000;\n",
       "        }    #T_f91cf826_24ba_11ea_b7fc_acde48001122row5_col1 {\n",
       "            background-color:  #fcf4b6;\n",
       "            color:  #000000;\n",
       "        }    #T_f91cf826_24ba_11ea_b7fc_acde48001122row5_col2 {\n",
       "            background-color:  #fcf9bb;\n",
       "            color:  #000000;\n",
       "        }    #T_f91cf826_24ba_11ea_b7fc_acde48001122row5_col3 {\n",
       "            background-color:  #fcf9bb;\n",
       "            color:  #000000;\n",
       "        }    #T_f91cf826_24ba_11ea_b7fc_acde48001122row6_col0 {\n",
       "            background-color:  #fcfbbd;\n",
       "            color:  #000000;\n",
       "        }    #T_f91cf826_24ba_11ea_b7fc_acde48001122row6_col1 {\n",
       "            background-color:  #fcfdbf;\n",
       "            color:  #000000;\n",
       "        }    #T_f91cf826_24ba_11ea_b7fc_acde48001122row6_col2 {\n",
       "            background-color:  #fcf4b6;\n",
       "            color:  #000000;\n",
       "        }    #T_f91cf826_24ba_11ea_b7fc_acde48001122row6_col3 {\n",
       "            background-color:  #fcf9bb;\n",
       "            color:  #000000;\n",
       "        }    #T_f91cf826_24ba_11ea_b7fc_acde48001122row7_col0 {\n",
       "            background-color:  #fcf9bb;\n",
       "            color:  #000000;\n",
       "        }    #T_f91cf826_24ba_11ea_b7fc_acde48001122row7_col1 {\n",
       "            background-color:  #fcfbbd;\n",
       "            color:  #000000;\n",
       "        }    #T_f91cf826_24ba_11ea_b7fc_acde48001122row7_col2 {\n",
       "            background-color:  #fcfdbf;\n",
       "            color:  #000000;\n",
       "        }    #T_f91cf826_24ba_11ea_b7fc_acde48001122row7_col3 {\n",
       "            background-color:  #fcfdbf;\n",
       "            color:  #000000;\n",
       "        }    #T_f91cf826_24ba_11ea_b7fc_acde48001122row8_col0 {\n",
       "            background-color:  #fcfdbf;\n",
       "            color:  #000000;\n",
       "        }    #T_f91cf826_24ba_11ea_b7fc_acde48001122row8_col1 {\n",
       "            background-color:  #fcfdbf;\n",
       "            color:  #000000;\n",
       "        }    #T_f91cf826_24ba_11ea_b7fc_acde48001122row8_col2 {\n",
       "            background-color:  #fcf0b2;\n",
       "            color:  #000000;\n",
       "        }    #T_f91cf826_24ba_11ea_b7fc_acde48001122row8_col3 {\n",
       "            background-color:  #fcf7b9;\n",
       "            color:  #000000;\n",
       "        }    #T_f91cf826_24ba_11ea_b7fc_acde48001122row9_col0 {\n",
       "            background-color:  #fcfdbf;\n",
       "            color:  #000000;\n",
       "        }    #T_f91cf826_24ba_11ea_b7fc_acde48001122row9_col1 {\n",
       "            background-color:  #fcfdbf;\n",
       "            color:  #000000;\n",
       "        }    #T_f91cf826_24ba_11ea_b7fc_acde48001122row9_col2 {\n",
       "            background-color:  #fcfbbd;\n",
       "            color:  #000000;\n",
       "        }    #T_f91cf826_24ba_11ea_b7fc_acde48001122row9_col3 {\n",
       "            background-color:  #fcfdbf;\n",
       "            color:  #000000;\n",
       "        }    #T_f91cf826_24ba_11ea_b7fc_acde48001122row10_col0 {\n",
       "            background-color:  #fcfdbf;\n",
       "            color:  #000000;\n",
       "        }    #T_f91cf826_24ba_11ea_b7fc_acde48001122row10_col1 {\n",
       "            background-color:  #fcfdbf;\n",
       "            color:  #000000;\n",
       "        }    #T_f91cf826_24ba_11ea_b7fc_acde48001122row10_col2 {\n",
       "            background-color:  #fcf9bb;\n",
       "            color:  #000000;\n",
       "        }    #T_f91cf826_24ba_11ea_b7fc_acde48001122row10_col3 {\n",
       "            background-color:  #fcfdbf;\n",
       "            color:  #000000;\n",
       "        }    #T_f91cf826_24ba_11ea_b7fc_acde48001122row11_col0 {\n",
       "            background-color:  #fcfdbf;\n",
       "            color:  #000000;\n",
       "        }    #T_f91cf826_24ba_11ea_b7fc_acde48001122row11_col1 {\n",
       "            background-color:  #fcfdbf;\n",
       "            color:  #000000;\n",
       "        }    #T_f91cf826_24ba_11ea_b7fc_acde48001122row11_col2 {\n",
       "            background-color:  #fcf7b9;\n",
       "            color:  #000000;\n",
       "        }    #T_f91cf826_24ba_11ea_b7fc_acde48001122row11_col3 {\n",
       "            background-color:  #fcfbbd;\n",
       "            color:  #000000;\n",
       "        }    #T_f91cf826_24ba_11ea_b7fc_acde48001122row12_col0 {\n",
       "            background-color:  #000004;\n",
       "            color:  #f1f1f1;\n",
       "        }    #T_f91cf826_24ba_11ea_b7fc_acde48001122row12_col1 {\n",
       "            background-color:  #000004;\n",
       "            color:  #f1f1f1;\n",
       "        }    #T_f91cf826_24ba_11ea_b7fc_acde48001122row12_col2 {\n",
       "            background-color:  #000004;\n",
       "            color:  #f1f1f1;\n",
       "        }    #T_f91cf826_24ba_11ea_b7fc_acde48001122row12_col3 {\n",
       "            background-color:  #000004;\n",
       "            color:  #f1f1f1;\n",
       "        }</style><table id=\"T_f91cf826_24ba_11ea_b7fc_acde48001122\" ><thead>    <tr>        <th class=\"blank\" ></th>        <th class=\"index_name level0\" >pclass</th>        <th class=\"col_heading level0 col0\" >1</th>        <th class=\"col_heading level0 col1\" >2</th>        <th class=\"col_heading level0 col2\" >3</th>        <th class=\"col_heading level0 col3\" >All</th>    </tr>    <tr>        <th class=\"index_name level0\" >sibsp</th>        <th class=\"index_name level1\" >survived</th>        <th class=\"blank\" ></th>        <th class=\"blank\" ></th>        <th class=\"blank\" ></th>        <th class=\"blank\" ></th>    </tr></thead><tbody>\n",
       "                <tr>\n",
       "                        <th id=\"T_f91cf826_24ba_11ea_b7fc_acde48001122level0_row0\" class=\"row_heading level0 row0\" rowspan=2>0</th>\n",
       "                        <th id=\"T_f91cf826_24ba_11ea_b7fc_acde48001122level1_row0\" class=\"row_heading level1 row0\" >0</th>\n",
       "                        <td id=\"T_f91cf826_24ba_11ea_b7fc_acde48001122row0_col0\" class=\"data row0 col0\" >60</td>\n",
       "                        <td id=\"T_f91cf826_24ba_11ea_b7fc_acde48001122row0_col1\" class=\"data row0 col1\" >70</td>\n",
       "                        <td id=\"T_f91cf826_24ba_11ea_b7fc_acde48001122row0_col2\" class=\"data row0 col2\" >268</td>\n",
       "                        <td id=\"T_f91cf826_24ba_11ea_b7fc_acde48001122row0_col3\" class=\"data row0 col3\" >398</td>\n",
       "            </tr>\n",
       "            <tr>\n",
       "                                <th id=\"T_f91cf826_24ba_11ea_b7fc_acde48001122level1_row1\" class=\"row_heading level1 row1\" >1</th>\n",
       "                        <td id=\"T_f91cf826_24ba_11ea_b7fc_acde48001122row1_col0\" class=\"data row1 col0\" >77</td>\n",
       "                        <td id=\"T_f91cf826_24ba_11ea_b7fc_acde48001122row1_col1\" class=\"data row1 col1\" >50</td>\n",
       "                        <td id=\"T_f91cf826_24ba_11ea_b7fc_acde48001122row1_col2\" class=\"data row1 col2\" >83</td>\n",
       "                        <td id=\"T_f91cf826_24ba_11ea_b7fc_acde48001122row1_col3\" class=\"data row1 col3\" >210</td>\n",
       "            </tr>\n",
       "            <tr>\n",
       "                        <th id=\"T_f91cf826_24ba_11ea_b7fc_acde48001122level0_row2\" class=\"row_heading level0 row2\" rowspan=2>1</th>\n",
       "                        <th id=\"T_f91cf826_24ba_11ea_b7fc_acde48001122level1_row2\" class=\"row_heading level1 row2\" >0</th>\n",
       "                        <td id=\"T_f91cf826_24ba_11ea_b7fc_acde48001122row2_col0\" class=\"data row2 col0\" >18</td>\n",
       "                        <td id=\"T_f91cf826_24ba_11ea_b7fc_acde48001122row2_col1\" class=\"data row2 col1\" >23</td>\n",
       "                        <td id=\"T_f91cf826_24ba_11ea_b7fc_acde48001122row2_col2\" class=\"data row2 col2\" >56</td>\n",
       "                        <td id=\"T_f91cf826_24ba_11ea_b7fc_acde48001122row2_col3\" class=\"data row2 col3\" >97</td>\n",
       "            </tr>\n",
       "            <tr>\n",
       "                                <th id=\"T_f91cf826_24ba_11ea_b7fc_acde48001122level1_row3\" class=\"row_heading level1 row3\" >1</th>\n",
       "                        <td id=\"T_f91cf826_24ba_11ea_b7fc_acde48001122row3_col0\" class=\"data row3 col0\" >53</td>\n",
       "                        <td id=\"T_f91cf826_24ba_11ea_b7fc_acde48001122row3_col1\" class=\"data row3 col1\" >32</td>\n",
       "                        <td id=\"T_f91cf826_24ba_11ea_b7fc_acde48001122row3_col2\" class=\"data row3 col2\" >27</td>\n",
       "                        <td id=\"T_f91cf826_24ba_11ea_b7fc_acde48001122row3_col3\" class=\"data row3 col3\" >112</td>\n",
       "            </tr>\n",
       "            <tr>\n",
       "                        <th id=\"T_f91cf826_24ba_11ea_b7fc_acde48001122level0_row4\" class=\"row_heading level0 row4\" rowspan=2>2</th>\n",
       "                        <th id=\"T_f91cf826_24ba_11ea_b7fc_acde48001122level1_row4\" class=\"row_heading level1 row4\" >0</th>\n",
       "                        <td id=\"T_f91cf826_24ba_11ea_b7fc_acde48001122row4_col0\" class=\"data row4 col0\" >1</td>\n",
       "                        <td id=\"T_f91cf826_24ba_11ea_b7fc_acde48001122row4_col1\" class=\"data row4 col1\" >4</td>\n",
       "                        <td id=\"T_f91cf826_24ba_11ea_b7fc_acde48001122row4_col2\" class=\"data row4 col2\" >10</td>\n",
       "                        <td id=\"T_f91cf826_24ba_11ea_b7fc_acde48001122row4_col3\" class=\"data row4 col3\" >15</td>\n",
       "            </tr>\n",
       "            <tr>\n",
       "                                <th id=\"T_f91cf826_24ba_11ea_b7fc_acde48001122level1_row5\" class=\"row_heading level1 row5\" >1</th>\n",
       "                        <td id=\"T_f91cf826_24ba_11ea_b7fc_acde48001122row5_col0\" class=\"data row5 col0\" >4</td>\n",
       "                        <td id=\"T_f91cf826_24ba_11ea_b7fc_acde48001122row5_col1\" class=\"data row5 col1\" >4</td>\n",
       "                        <td id=\"T_f91cf826_24ba_11ea_b7fc_acde48001122row5_col2\" class=\"data row5 col2\" >5</td>\n",
       "                        <td id=\"T_f91cf826_24ba_11ea_b7fc_acde48001122row5_col3\" class=\"data row5 col3\" >13</td>\n",
       "            </tr>\n",
       "            <tr>\n",
       "                        <th id=\"T_f91cf826_24ba_11ea_b7fc_acde48001122level0_row6\" class=\"row_heading level0 row6\" rowspan=2>3</th>\n",
       "                        <th id=\"T_f91cf826_24ba_11ea_b7fc_acde48001122level1_row6\" class=\"row_heading level1 row6\" >0</th>\n",
       "                        <td id=\"T_f91cf826_24ba_11ea_b7fc_acde48001122row6_col0\" class=\"data row6 col0\" >1</td>\n",
       "                        <td id=\"T_f91cf826_24ba_11ea_b7fc_acde48001122row6_col1\" class=\"data row6 col1\" >0</td>\n",
       "                        <td id=\"T_f91cf826_24ba_11ea_b7fc_acde48001122row6_col2\" class=\"data row6 col2\" >11</td>\n",
       "                        <td id=\"T_f91cf826_24ba_11ea_b7fc_acde48001122row6_col3\" class=\"data row6 col3\" >12</td>\n",
       "            </tr>\n",
       "            <tr>\n",
       "                                <th id=\"T_f91cf826_24ba_11ea_b7fc_acde48001122level1_row7\" class=\"row_heading level1 row7\" >1</th>\n",
       "                        <td id=\"T_f91cf826_24ba_11ea_b7fc_acde48001122row7_col0\" class=\"data row7 col0\" >2</td>\n",
       "                        <td id=\"T_f91cf826_24ba_11ea_b7fc_acde48001122row7_col1\" class=\"data row7 col1\" >1</td>\n",
       "                        <td id=\"T_f91cf826_24ba_11ea_b7fc_acde48001122row7_col2\" class=\"data row7 col2\" >1</td>\n",
       "                        <td id=\"T_f91cf826_24ba_11ea_b7fc_acde48001122row7_col3\" class=\"data row7 col3\" >4</td>\n",
       "            </tr>\n",
       "            <tr>\n",
       "                        <th id=\"T_f91cf826_24ba_11ea_b7fc_acde48001122level0_row8\" class=\"row_heading level0 row8\" rowspan=2>4</th>\n",
       "                        <th id=\"T_f91cf826_24ba_11ea_b7fc_acde48001122level1_row8\" class=\"row_heading level1 row8\" >0</th>\n",
       "                        <td id=\"T_f91cf826_24ba_11ea_b7fc_acde48001122row8_col0\" class=\"data row8 col0\" >0</td>\n",
       "                        <td id=\"T_f91cf826_24ba_11ea_b7fc_acde48001122row8_col1\" class=\"data row8 col1\" >0</td>\n",
       "                        <td id=\"T_f91cf826_24ba_11ea_b7fc_acde48001122row8_col2\" class=\"data row8 col2\" >15</td>\n",
       "                        <td id=\"T_f91cf826_24ba_11ea_b7fc_acde48001122row8_col3\" class=\"data row8 col3\" >15</td>\n",
       "            </tr>\n",
       "            <tr>\n",
       "                                <th id=\"T_f91cf826_24ba_11ea_b7fc_acde48001122level1_row9\" class=\"row_heading level1 row9\" >1</th>\n",
       "                        <td id=\"T_f91cf826_24ba_11ea_b7fc_acde48001122row9_col0\" class=\"data row9 col0\" >0</td>\n",
       "                        <td id=\"T_f91cf826_24ba_11ea_b7fc_acde48001122row9_col1\" class=\"data row9 col1\" >0</td>\n",
       "                        <td id=\"T_f91cf826_24ba_11ea_b7fc_acde48001122row9_col2\" class=\"data row9 col2\" >3</td>\n",
       "                        <td id=\"T_f91cf826_24ba_11ea_b7fc_acde48001122row9_col3\" class=\"data row9 col3\" >3</td>\n",
       "            </tr>\n",
       "            <tr>\n",
       "                        <th id=\"T_f91cf826_24ba_11ea_b7fc_acde48001122level0_row10\" class=\"row_heading level0 row10\" >5</th>\n",
       "                        <th id=\"T_f91cf826_24ba_11ea_b7fc_acde48001122level1_row10\" class=\"row_heading level1 row10\" >0</th>\n",
       "                        <td id=\"T_f91cf826_24ba_11ea_b7fc_acde48001122row10_col0\" class=\"data row10 col0\" >0</td>\n",
       "                        <td id=\"T_f91cf826_24ba_11ea_b7fc_acde48001122row10_col1\" class=\"data row10 col1\" >0</td>\n",
       "                        <td id=\"T_f91cf826_24ba_11ea_b7fc_acde48001122row10_col2\" class=\"data row10 col2\" >5</td>\n",
       "                        <td id=\"T_f91cf826_24ba_11ea_b7fc_acde48001122row10_col3\" class=\"data row10 col3\" >5</td>\n",
       "            </tr>\n",
       "            <tr>\n",
       "                        <th id=\"T_f91cf826_24ba_11ea_b7fc_acde48001122level0_row11\" class=\"row_heading level0 row11\" >8</th>\n",
       "                        <th id=\"T_f91cf826_24ba_11ea_b7fc_acde48001122level1_row11\" class=\"row_heading level1 row11\" >0</th>\n",
       "                        <td id=\"T_f91cf826_24ba_11ea_b7fc_acde48001122row11_col0\" class=\"data row11 col0\" >0</td>\n",
       "                        <td id=\"T_f91cf826_24ba_11ea_b7fc_acde48001122row11_col1\" class=\"data row11 col1\" >0</td>\n",
       "                        <td id=\"T_f91cf826_24ba_11ea_b7fc_acde48001122row11_col2\" class=\"data row11 col2\" >7</td>\n",
       "                        <td id=\"T_f91cf826_24ba_11ea_b7fc_acde48001122row11_col3\" class=\"data row11 col3\" >7</td>\n",
       "            </tr>\n",
       "            <tr>\n",
       "                        <th id=\"T_f91cf826_24ba_11ea_b7fc_acde48001122level0_row12\" class=\"row_heading level0 row12\" >All</th>\n",
       "                        <th id=\"T_f91cf826_24ba_11ea_b7fc_acde48001122level1_row12\" class=\"row_heading level1 row12\" ></th>\n",
       "                        <td id=\"T_f91cf826_24ba_11ea_b7fc_acde48001122row12_col0\" class=\"data row12 col0\" >216</td>\n",
       "                        <td id=\"T_f91cf826_24ba_11ea_b7fc_acde48001122row12_col1\" class=\"data row12 col1\" >184</td>\n",
       "                        <td id=\"T_f91cf826_24ba_11ea_b7fc_acde48001122row12_col2\" class=\"data row12 col2\" >491</td>\n",
       "                        <td id=\"T_f91cf826_24ba_11ea_b7fc_acde48001122row12_col3\" class=\"data row12 col3\" >891</td>\n",
       "            </tr>\n",
       "    </tbody></table>"
      ],
      "text/plain": [
       "<pandas.io.formats.style.Styler at 0x1a1abc1d90>"
      ]
     },
     "execution_count": 27,
     "metadata": {},
     "output_type": "execute_result"
    }
   ],
   "source": [
    "pd.crosstab([df.sibsp, df.survived], df.pclass, margins=True).style.background_gradient(cmap='magma_r')"
   ]
  },
  {
   "cell_type": "code",
   "execution_count": null,
   "metadata": {},
   "outputs": [],
   "source": []
  },
  {
   "cell_type": "code",
   "execution_count": null,
   "metadata": {},
   "outputs": [],
   "source": []
  },
  {
   "cell_type": "code",
   "execution_count": null,
   "metadata": {},
   "outputs": [],
   "source": []
  }
 ],
 "metadata": {
  "kernelspec": {
   "display_name": "Python 3",
   "language": "python",
   "name": "python3"
  },
  "language_info": {
   "codemirror_mode": {
    "name": "ipython",
    "version": 3
   },
   "file_extension": ".py",
   "mimetype": "text/x-python",
   "name": "python",
   "nbconvert_exporter": "python",
   "pygments_lexer": "ipython3",
   "version": "3.7.4"
  },
  "toc": {
   "base_numbering": 1,
   "nav_menu": {},
   "number_sections": true,
   "sideBar": true,
   "skip_h1_title": false,
   "title_cell": "Table of Contents",
   "title_sidebar": "Contents",
   "toc_cell": false,
   "toc_position": {
    "height": "calc(100% - 180px)",
    "left": "10px",
    "top": "150px",
    "width": "435px"
   },
   "toc_section_display": true,
   "toc_window_display": true
  }
 },
 "nbformat": 4,
 "nbformat_minor": 2
}
